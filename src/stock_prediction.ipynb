{
 "cells": [
  {
   "cell_type": "code",
   "execution_count": 9,
   "metadata": {},
   "outputs": [
    {
     "name": "stdout",
     "output_type": "stream",
     "text": [
      "正解率: 0.5671342685370742\n"
     ]
    }
   ],
   "source": [
    "# 株価予測\n",
    "\n",
    "from sklearn import svm\n",
    "from sklearn.model_selection import train_test_split\n",
    "\n",
    "# 株価データの読み込み\n",
    "with open('stock_price.txt', 'r') as f:\n",
    "    stock_file_data = f.read().split()\n",
    "\n",
    "stock_data = []\n",
    "for stock_string in stock_file_data:\n",
    "    stock_data.append(float(stock_string))\n",
    "\n",
    "# データの確認\n",
    "# print(stock_data)\n",
    "# print(len(stock_data))\n",
    "\n",
    "# 株価の変化率\n",
    "ratio_data = []\n",
    "for i in range(1, len(stock_data)):\n",
    "    ratio_data.append((stock_data[i] - stock_data[i-1] ) / stock_data[i-1])\n",
    "\n",
    "# データの確認\n",
    "# print(ratio_data)\n",
    "# print(len(ratio_data))\n",
    "\n",
    "# 前日までの4日間の変化率のデータ\n",
    "successive_data = []\n",
    "answers = []\n",
    "for i in range(4, len(ratio_data)):\n",
    "    successive_data.append([\n",
    "        ratio_data[i-4],\n",
    "        ratio_data[i-3],\n",
    "        ratio_data[i-2],\n",
    "        ratio_data[i-1],\n",
    "    ])\n",
    "    if ratio_data[i] > 0:\n",
    "        answers.append(1)\n",
    "    else:\n",
    "        answers.append(0)\n",
    "\n",
    "# データの確認\n",
    "# print(successive_data)\n",
    "# print(answers)\n",
    "\n",
    "# 訓練\n",
    "x_train, x_test, t_train, t_test = train_test_split(successive_data, answers, shuffle=False)\n",
    "\n",
    "clf = svm.SVC()\n",
    "clf.fit(x_train, t_train)\n",
    "\n",
    "y_test = clf.predict(x_test)\n",
    "\n",
    "# print('正解:', t_test[:10])\n",
    "# print('予測:', y_test[:10])\n",
    "\n",
    "# 正解率の計算\n",
    "correct = 0\n",
    "for i in range(len(y_test)):\n",
    "    if y_test[i] == t_test[i]:\n",
    "        correct += 1\n",
    "\n",
    "print('正解率:', correct / len(y_test))"
   ]
  }
 ],
 "metadata": {
  "kernelspec": {
   "display_name": "Python 3",
   "language": "python",
   "name": "python3"
  },
  "language_info": {
   "codemirror_mode": {
    "name": "ipython",
    "version": 3
   },
   "file_extension": ".py",
   "mimetype": "text/x-python",
   "name": "python",
   "nbconvert_exporter": "python",
   "pygments_lexer": "ipython3",
   "version": "3.11.7"
  }
 },
 "nbformat": 4,
 "nbformat_minor": 2
}
