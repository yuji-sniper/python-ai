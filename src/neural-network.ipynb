{
 "cells": [
  {
   "cell_type": "code",
   "execution_count": 2,
   "metadata": {},
   "outputs": [
    {
     "name": "stdout",
     "output_type": "stream",
     "text": [
      "6.0\n"
     ]
    }
   ],
   "source": [
    "# 単一ニューロンの実装\n",
    "\n",
    "class Neuron:\n",
    "    def __init__(self):\n",
    "        self.input_sum = 0.0\n",
    "        self.output = 0.0\n",
    "    \n",
    "    def set_input(self, inp: float):\n",
    "        self.input_sum += inp\n",
    "    \n",
    "    def get_output(self):\n",
    "        self.output = self.input_sum\n",
    "        return self.output\n",
    "\n",
    "class NeuralNetwork:\n",
    "    def __init__(self):\n",
    "        self.neuron = Neuron()\n",
    "    \n",
    "    def commit(self, input_data: list): \n",
    "        for data in input_data:\n",
    "            self.neuron.set_input(data)\n",
    "        return self.neuron.get_output()\n",
    "\n",
    "neural_network = NeuralNetwork()\n",
    "input_data = [1.0, 2.0, 3.0]\n",
    "print(neural_network.commit(input_data))\n"
   ]
  },
  {
   "cell_type": "code",
   "execution_count": 4,
   "metadata": {},
   "outputs": [
    {
     "name": "stdout",
     "output_type": "stream",
     "text": [
      "0.5\n"
     ]
    }
   ],
   "source": [
    "# 活性化関数を追加\n",
    "\n",
    "import numpy as np\n",
    "\n",
    "def sigmoid(x):\n",
    "    return 1 / (1 + np.exp(-x))\n",
    "\n",
    "class Neuron:\n",
    "    def __init__(self):\n",
    "        self.input_sum = 0.0\n",
    "        self.output = 0.0\n",
    "    \n",
    "    def set_input(self, inp: float):\n",
    "        self.input_sum += inp\n",
    "    \n",
    "    def get_output(self):\n",
    "        self.output = sigmoid(self.input_sum)\n",
    "        return self.output\n",
    "\n",
    "class NeuralNetwork:\n",
    "    def __init__(self):\n",
    "        self.neuron = Neuron()\n",
    "        self.weight = [1.5, 0.75, -1.0]\n",
    "    \n",
    "    def commit(self, input_data: list): \n",
    "        for data, weight in zip(input_data, self.weight):\n",
    "            self.neuron.set_input(data * weight)\n",
    "        return self.neuron.get_output()\n",
    "\n",
    "neural_network = NeuralNetwork()\n",
    "\n",
    "input_data = [1.0, 2.0, 3.0]\n",
    "print(neural_network.commit(input_data))\n"
   ]
  },
  {
   "cell_type": "code",
   "execution_count": 6,
   "metadata": {},
   "outputs": [
    {
     "name": "stdout",
     "output_type": "stream",
     "text": [
      "0.2689414213699951\n"
     ]
    }
   ],
   "source": [
    "# バイアスを追加\n",
    "\n",
    "import numpy as np\n",
    "\n",
    "def sigmoid(x):\n",
    "    return 1 / (1 + np.exp(-x))\n",
    "\n",
    "class Neuron:\n",
    "    def __init__(self):\n",
    "        self.input_sum = 0.0\n",
    "        self.output = 0.0\n",
    "    \n",
    "    def set_input(self, inp: float):\n",
    "        self.input_sum += inp\n",
    "    \n",
    "    def get_output(self):\n",
    "        self.output = sigmoid(self.input_sum)\n",
    "        return self.output\n",
    "\n",
    "class NeuralNetwork:\n",
    "    def __init__(self):\n",
    "        self.neuron = Neuron()\n",
    "        self.weight = [1.5, 0.75, -1.0]\n",
    "        self.bias = -1.0\n",
    "    \n",
    "    def commit(self, input_data: list): \n",
    "        for data, weight in zip(input_data, self.weight):\n",
    "            self.neuron.set_input(data * weight)\n",
    "        self.neuron.set_input(self.bias)\n",
    "        return self.neuron.get_output()\n",
    "\n",
    "neural_network = NeuralNetwork()\n",
    "\n",
    "input_data = [1.0, 2.0, 3.0]\n",
    "print(neural_network.commit(input_data))\n"
   ]
  }
 ],
 "metadata": {
  "kernelspec": {
   "display_name": "Python 3",
   "language": "python",
   "name": "python3"
  },
  "language_info": {
   "codemirror_mode": {
    "name": "ipython",
    "version": 3
   },
   "file_extension": ".py",
   "mimetype": "text/x-python",
   "name": "python",
   "nbconvert_exporter": "python",
   "pygments_lexer": "ipython3",
   "version": "3.11.7"
  }
 },
 "nbformat": 4,
 "nbformat_minor": 2
}
