{
 "cells": [
  {
   "cell_type": "code",
   "execution_count": 4,
   "metadata": {},
   "outputs": [
    {
     "name": "stdout",
     "output_type": "stream",
     "text": [
      "tensor(9., grad_fn=<MeanBackward0>)\n"
     ]
    }
   ],
   "source": [
    "# 自動微分\n",
    "\n",
    "import torch\n",
    "\n",
    "x = torch.ones(2, 3, requires_grad=True)\n",
    "# print(x)\n",
    "\n",
    "y = x + 2\n",
    "# print(y)\n",
    "# print(y.grad_fn)\n",
    "\n",
    "z = y * 3\n",
    "# print(z)\n",
    "\n",
    "out = z.mean()\n",
    "# print(out)\n"
   ]
  },
  {
   "cell_type": "code",
   "execution_count": 5,
   "metadata": {},
   "outputs": [
    {
     "name": "stdout",
     "output_type": "stream",
     "text": [
      "tensor([2.])\n"
     ]
    }
   ],
   "source": [
    "# 勾配の計算\n",
    "a = torch.tensor([1.0], requires_grad=True)\n",
    "b = a * 2\n",
    "b.backward()\n",
    "print(a.grad)"
   ]
  },
  {
   "cell_type": "code",
   "execution_count": 7,
   "metadata": {},
   "outputs": [
    {
     "name": "stdout",
     "output_type": "stream",
     "text": [
      "[0.06611569225788116, 0.01828990876674652, 0.007176725193858147]\n",
      "0.06604194641113281 0.018298625946044922 0.007152557373046875\n"
     ]
    }
   ],
   "source": [
    "# 複雑な演算の勾配を計算\n",
    "def calc(a):\n",
    "    b = a*2 + 1\n",
    "    c = b**2\n",
    "    d = c/(c+2)\n",
    "    e = d.mean()\n",
    "    return e\n",
    "\n",
    "x = [1.0, 2.0, 3.0]\n",
    "x = torch.tensor(x, requires_grad=True)\n",
    "y = calc(x)\n",
    "y.backward()\n",
    "print(x.grad.tolist())\n",
    "\n",
    "# 勾配が正しく計算できているか確認\n",
    "delta = 0.001 # xの微小変化\n",
    "\n",
    "x = [1.0, 2.0, 3.0]\n",
    "x = torch.tensor(x, requires_grad=True)\n",
    "y = calc(x).item()\n",
    "\n",
    "x_1 = [1.0+delta, 2.0, 3.0]\n",
    "x_1 = torch.tensor(x_1, requires_grad=True)\n",
    "y_1 = calc(x_1).item()\n",
    "\n",
    "x_2 = [1.0, 2.0+delta, 3.0]\n",
    "x_2 = torch.tensor(x_2, requires_grad=True)\n",
    "y_2 = calc(x_2).item()\n",
    "\n",
    "x_3 = [1.0, 2.0, 3.0+delta]\n",
    "x_3 = torch.tensor(x_3, requires_grad=True)\n",
    "y_3 = calc(x_3).item()\n",
    "\n",
    "grad_1 = (y_1 - y) / delta\n",
    "grad_2 = (y_2 - y) / delta\n",
    "grad_3 = (y_3 - y) / delta\n",
    "\n",
    "print(grad_1, grad_2, grad_3)"
   ]
  }
 ],
 "metadata": {
  "kernelspec": {
   "display_name": "Python 3",
   "language": "python",
   "name": "python3"
  },
  "language_info": {
   "codemirror_mode": {
    "name": "ipython",
    "version": 3
   },
   "file_extension": ".py",
   "mimetype": "text/x-python",
   "name": "python",
   "nbconvert_exporter": "python",
   "pygments_lexer": "ipython3",
   "version": "3.11.7"
  }
 },
 "nbformat": 4,
 "nbformat_minor": 2
}
