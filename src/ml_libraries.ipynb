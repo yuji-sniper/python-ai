{
 "cells": [
  {
   "cell_type": "code",
   "execution_count": 2,
   "metadata": {},
   "outputs": [
    {
     "name": "stderr",
     "output_type": "stream",
     "text": [
      "/app/.venv/lib/python3.11/site-packages/torch/nn/modules/loss.py:535: UserWarning: Using a target size (torch.Size([75])) that is different to the input size (torch.Size([75, 1])). This will likely lead to incorrect results due to broadcasting. Please ensure they have the same size.\n",
      "  return F.mse_loss(input, target, reduction=self.reduction)\n",
      "/app/.venv/lib/python3.11/site-packages/torch/nn/modules/loss.py:535: UserWarning: Using a target size (torch.Size([25])) that is different to the input size (torch.Size([25, 1])). This will likely lead to incorrect results due to broadcasting. Please ensure they have the same size.\n",
      "  return F.mse_loss(input, target, reduction=self.reduction)\n"
     ]
    },
    {
     "name": "stdout",
     "output_type": "stream",
     "text": [
      "Epoch: 0 Loss_Train: 0.2784216105937958 Loss_Test: 0.2415745109319687\n",
      "Epoch: 100 Loss_Train: 0.26058241724967957 Loss_Test: 0.2405976504087448\n",
      "Epoch: 200 Loss_Train: 0.25327837467193604 Loss_Test: 0.24433283507823944\n",
      "Epoch: 300 Loss_Train: 0.2505739629268646 Loss_Test: 0.2483682632446289\n",
      "Epoch: 400 Loss_Train: 0.2496037483215332 Loss_Test: 0.2514271140098572\n",
      "Epoch: 500 Loss_Train: 0.2492573857307434 Loss_Test: 0.253480464220047\n",
      "Epoch: 600 Loss_Train: 0.2491329163312912 Loss_Test: 0.25478729605674744\n",
      "Epoch: 700 Loss_Train: 0.24908728897571564 Loss_Test: 0.2555978298187256\n",
      "Epoch: 800 Loss_Train: 0.24906975030899048 Loss_Test: 0.2560941278934479\n",
      "Epoch: 900 Loss_Train: 0.24906229972839355 Loss_Test: 0.2563963234424591\n",
      "正解率: 1000.0%\n"
     ]
    }
   ],
   "source": [
    "import numpy as np\n",
    "import matplotlib.pyplot as plt\n",
    "from sklearn import datasets\n",
    "from sklearn.model_selection import train_test_split\n",
    "import torch\n",
    "from torch import nn, optim\n",
    "\n",
    "# データの読み込み\n",
    "iris = datasets.load_iris()\n",
    "iris_data = iris.data\n",
    "sl_data = iris_data[:100, 0] # setosa & versicolor, sepal length\n",
    "sw_data = iris_data[:100, 1] # setosa & versicolor, sepal width\n",
    "\n",
    "# 平均値を0にする\n",
    "sl_ave = np.average(sl_data)\n",
    "sw_ave = np.average(sw_data)\n",
    "sl_data -= sl_ave\n",
    "sw_data -= sw_ave\n",
    "\n",
    "# 入力をリストに格納\n",
    "input_data = []\n",
    "correct_data = []\n",
    "for i in range(100):\n",
    "    input_data.append([sl_data[i], sw_data[i]])\n",
    "    correct_data.append(iris.target[i])\n",
    "\n",
    "# 訓練データとテストデータに分ける\n",
    "input_data = np.array(input_data)\n",
    "correct_data = np.array(correct_data)\n",
    "x_train, x_test, t_train, t_test = train_test_split(input_data, correct_data)\n",
    "\n",
    "# Tensorに変換\n",
    "x_train = torch.tensor(x_train, dtype=torch.float32)\n",
    "t_train = torch.tensor(t_train, dtype=torch.float32)\n",
    "x_test = torch.tensor(x_test, dtype=torch.float32)\n",
    "t_test = torch.tensor(t_test, dtype=torch.float32)\n",
    "\n",
    "# ニューラルネットワークの構築\n",
    "net = nn.Sequential(\n",
    "    nn.Linear(2, 2),\n",
    "    nn.Sigmoid(),\n",
    "    nn.Linear(2, 1),\n",
    "    nn.Sigmoid()\n",
    ")\n",
    "\n",
    "loss_fnc = nn.MSELoss()\n",
    "optimizer = optim.SGD(net.parameters(), lr=0.03)\n",
    "\n",
    "# 1000エポック学習\n",
    "for i in range(1000):\n",
    "    # 勾配を初期化\n",
    "    optimizer.zero_grad()\n",
    "    \n",
    "    # 順伝播\n",
    "    y_train = net(x_train)\n",
    "    y_test = net(x_test)\n",
    "    \n",
    "    # 誤差を求める\n",
    "    loss_train = loss_fnc(y_train, t_train)\n",
    "    loss_test = loss_fnc(y_test, t_test)\n",
    "    \n",
    "    # 逆伝播\n",
    "    loss_train.backward()\n",
    "    \n",
    "    # 重みを更新\n",
    "    optimizer.step()\n",
    "    \n",
    "    if i % 100 == 0:\n",
    "        print(\"Epoch:\", i, \"Loss_Train:\", loss_train.item(), \"Loss_Test:\", loss_test.item())\n",
    "\n",
    "y_test = net(x_test)\n",
    "count = ((y_test.detach().numpy()>0.5) == (t_test.detach().numpy()==1.0)).sum().item()\n",
    "print(\"正解率:\", str(count/len(y_test)*100) + \"%\")\n"
   ]
  }
 ],
 "metadata": {
  "kernelspec": {
   "display_name": "Python 3",
   "language": "python",
   "name": "python3"
  },
  "language_info": {
   "codemirror_mode": {
    "name": "ipython",
    "version": 3
   },
   "file_extension": ".py",
   "mimetype": "text/x-python",
   "name": "python",
   "nbconvert_exporter": "python",
   "pygments_lexer": "ipython3",
   "version": "3.11.7"
  }
 },
 "nbformat": 4,
 "nbformat_minor": 2
}
