{
 "cells": [
  {
   "cell_type": "code",
   "execution_count": 12,
   "metadata": {},
   "outputs": [
    {
     "name": "stdout",
     "output_type": "stream",
     "text": [
      "Parameter containing:\n",
      "tensor([[-0.0043,  0.3097, -0.4752],\n",
      "        [-0.4249, -0.2224,  0.1548]], requires_grad=True)\n",
      "Parameter containing:\n",
      "tensor([-0.0114,  0.4578], requires_grad=True)\n",
      "tensor([-0.8219,  0.0526], grad_fn=<ViewBackward0>)\n",
      "tensor([0.0000, 0.0526], grad_fn=<ReluBackward0>)\n",
      "tensor(1.)\n"
     ]
    }
   ],
   "source": [
    "import torch\n",
    "import torch.nn as nn\n",
    "import torch.nn.functional as F\n",
    "\n",
    "# 乱数のシードを固定\n",
    "torch.manual_seed(0)\n",
    "\n",
    "# 3ノード → 2ノードの全結合層\n",
    "fc = nn.Linear(3, 2)\n",
    "\n",
    "print(fc.weight)\n",
    "print(fc.bias)\n",
    "\n",
    "# 入力値\n",
    "x = torch.tensor([1.0, 2.0, 3.0])\n",
    "\n",
    "# 線形変換\n",
    "u = fc(x)\n",
    "print(u)\n",
    "\n",
    "# 非線形変換（ReLU関数）\n",
    "# ReLU(x) = max(0, x)\n",
    "h = F.relu(u)\n",
    "print(h)\n",
    "\n",
    "# 目的関数\n",
    "## 目標値\n",
    "t = torch.tensor([1.0, 3.0])\n",
    "## 予測値\n",
    "y = torch.tensor([2.0, 4.0])\n",
    "## 平均二乗誤差\n",
    "loss = F.mse_loss(t, y)\n",
    "print(loss)"
   ]
  }
 ],
 "metadata": {
  "kernelspec": {
   "display_name": "Python 3",
   "language": "python",
   "name": "python3"
  },
  "language_info": {
   "codemirror_mode": {
    "name": "ipython",
    "version": 3
   },
   "file_extension": ".py",
   "mimetype": "text/x-python",
   "name": "python",
   "nbconvert_exporter": "python",
   "pygments_lexer": "ipython3",
   "version": "3.11.7"
  }
 },
 "nbformat": 4,
 "nbformat_minor": 2
}
